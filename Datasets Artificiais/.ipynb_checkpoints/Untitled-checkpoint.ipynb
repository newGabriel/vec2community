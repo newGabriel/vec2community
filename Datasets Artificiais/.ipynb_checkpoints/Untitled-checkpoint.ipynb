{
 "cells": [
  {
   "cell_type": "code",
   "execution_count": 1,
   "id": "38d33930-ad9a-4092-99fe-103deb6c3577",
   "metadata": {},
   "outputs": [],
   "source": [
    "import pandas as pd"
   ]
  },
  {
   "cell_type": "markdown",
   "id": "2070e4d4-7ce5-4b01-90eb-e406a8ae8d76",
   "metadata": {
    "tags": []
   },
   "source": [
    "## average linkage"
   ]
  },
  {
   "cell_type": "code",
   "execution_count": 2,
   "id": "08501c0a-0573-44c1-b4a7-1ac4131eb4f3",
   "metadata": {},
   "outputs": [
    {
     "data": {
      "text/html": [
       "<div>\n",
       "<style scoped>\n",
       "    .dataframe tbody tr th:only-of-type {\n",
       "        vertical-align: middle;\n",
       "    }\n",
       "\n",
       "    .dataframe tbody tr th {\n",
       "        vertical-align: top;\n",
       "    }\n",
       "\n",
       "    .dataframe thead th {\n",
       "        text-align: right;\n",
       "    }\n",
       "</style>\n",
       "<table border=\"1\" class=\"dataframe\">\n",
       "  <thead>\n",
       "    <tr style=\"text-align: right;\">\n",
       "      <th></th>\n",
       "      <th>Unnamed: 0</th>\n",
       "      <th>Agregation</th>\n",
       "      <th>banana</th>\n",
       "      <th>cluto</th>\n",
       "      <th>denseDisk</th>\n",
       "      <th>elly</th>\n",
       "      <th>engytime</th>\n",
       "      <th>Jain</th>\n",
       "      <th>Spiral</th>\n",
       "      <th>tetra</th>\n",
       "      <th>unbalance</th>\n",
       "    </tr>\n",
       "  </thead>\n",
       "  <tbody>\n",
       "    <tr>\n",
       "      <th>0</th>\n",
       "      <td>0</td>\n",
       "      <td>1.0</td>\n",
       "      <td>0.816878</td>\n",
       "      <td>0.754104</td>\n",
       "      <td>0.837435</td>\n",
       "      <td>0.613528</td>\n",
       "      <td>0.896106</td>\n",
       "      <td>0.946381</td>\n",
       "      <td>0.507177</td>\n",
       "      <td>0.9975</td>\n",
       "      <td>0.036466</td>\n",
       "    </tr>\n",
       "  </tbody>\n",
       "</table>\n",
       "</div>"
      ],
      "text/plain": [
       "   Unnamed: 0  Agregation    banana     cluto  denseDisk      elly  engytime  \\\n",
       "0           0         1.0  0.816878  0.754104   0.837435  0.613528  0.896106   \n",
       "\n",
       "       Jain    Spiral   tetra  unbalance  \n",
       "0  0.946381  0.507177  0.9975   0.036466  "
      ]
     },
     "execution_count": 2,
     "metadata": {},
     "output_type": "execute_result"
    }
   ],
   "source": [
    "Avg = pd.read_csv(\"artificialAvg.csv\")\n",
    "Avg"
   ]
  },
  {
   "cell_type": "markdown",
   "id": "10fd27b7-350f-408b-9ab1-adc830ea6535",
   "metadata": {},
   "source": [
    "## Complete Linkage"
   ]
  },
  {
   "cell_type": "code",
   "execution_count": 3,
   "id": "605750e8-7a72-46e0-8448-bbcb79d9ff9d",
   "metadata": {},
   "outputs": [
    {
     "data": {
      "text/html": [
       "<div>\n",
       "<style scoped>\n",
       "    .dataframe tbody tr th:only-of-type {\n",
       "        vertical-align: middle;\n",
       "    }\n",
       "\n",
       "    .dataframe tbody tr th {\n",
       "        vertical-align: top;\n",
       "    }\n",
       "\n",
       "    .dataframe thead th {\n",
       "        text-align: right;\n",
       "    }\n",
       "</style>\n",
       "<table border=\"1\" class=\"dataframe\">\n",
       "  <thead>\n",
       "    <tr style=\"text-align: right;\">\n",
       "      <th></th>\n",
       "      <th>Unnamed: 0</th>\n",
       "      <th>Agregation</th>\n",
       "      <th>banana</th>\n",
       "      <th>cluto</th>\n",
       "      <th>denseDisk</th>\n",
       "      <th>elly</th>\n",
       "      <th>engytime</th>\n",
       "      <th>Jain</th>\n",
       "      <th>Spiral</th>\n",
       "      <th>tetra</th>\n",
       "      <th>unbalance</th>\n",
       "    </tr>\n",
       "  </thead>\n",
       "  <tbody>\n",
       "    <tr>\n",
       "      <th>0</th>\n",
       "      <td>0</td>\n",
       "      <td>0.918932</td>\n",
       "      <td>0.816047</td>\n",
       "      <td>0.672898</td>\n",
       "      <td>0.837435</td>\n",
       "      <td>0.537433</td>\n",
       "      <td>0.91233</td>\n",
       "      <td>0.946381</td>\n",
       "      <td>0.507177</td>\n",
       "      <td>0.995</td>\n",
       "      <td>0.037056</td>\n",
       "    </tr>\n",
       "  </tbody>\n",
       "</table>\n",
       "</div>"
      ],
      "text/plain": [
       "   Unnamed: 0  Agregation    banana     cluto  denseDisk      elly  engytime  \\\n",
       "0           0    0.918932  0.816047  0.672898   0.837435  0.537433   0.91233   \n",
       "\n",
       "       Jain    Spiral  tetra  unbalance  \n",
       "0  0.946381  0.507177  0.995   0.037056  "
      ]
     },
     "execution_count": 3,
     "metadata": {},
     "output_type": "execute_result"
    }
   ],
   "source": [
    "Cpt = pd.read_csv(\"artificialCpt.csv\")\n",
    "Cpt"
   ]
  },
  {
   "cell_type": "markdown",
   "id": "f7d61dc0-bd98-4f56-b2d4-c4a21ead8565",
   "metadata": {},
   "source": [
    "## Single Linkage"
   ]
  },
  {
   "cell_type": "code",
   "execution_count": 4,
   "id": "1d614f8b-5835-4606-b808-29f296dbf923",
   "metadata": {},
   "outputs": [
    {
     "data": {
      "text/html": [
       "<div>\n",
       "<style scoped>\n",
       "    .dataframe tbody tr th:only-of-type {\n",
       "        vertical-align: middle;\n",
       "    }\n",
       "\n",
       "    .dataframe tbody tr th {\n",
       "        vertical-align: top;\n",
       "    }\n",
       "\n",
       "    .dataframe thead th {\n",
       "        text-align: right;\n",
       "    }\n",
       "</style>\n",
       "<table border=\"1\" class=\"dataframe\">\n",
       "  <thead>\n",
       "    <tr style=\"text-align: right;\">\n",
       "      <th></th>\n",
       "      <th>Unnamed: 0</th>\n",
       "      <th>Agregation</th>\n",
       "      <th>banana</th>\n",
       "      <th>cluto</th>\n",
       "      <th>denseDisk</th>\n",
       "      <th>elly</th>\n",
       "      <th>engytime</th>\n",
       "      <th>Jain</th>\n",
       "      <th>Spiral</th>\n",
       "      <th>tetra</th>\n",
       "      <th>unbalance</th>\n",
       "    </tr>\n",
       "  </thead>\n",
       "  <tbody>\n",
       "    <tr>\n",
       "      <th>0</th>\n",
       "      <td>0</td>\n",
       "      <td>0.905556</td>\n",
       "      <td>1.0</td>\n",
       "      <td>0.393857</td>\n",
       "      <td>0.860167</td>\n",
       "      <td>0.408451</td>\n",
       "      <td>0.677388</td>\n",
       "      <td>0.962448</td>\n",
       "      <td>1.0</td>\n",
       "      <td>0.989899</td>\n",
       "      <td>0.032365</td>\n",
       "    </tr>\n",
       "  </tbody>\n",
       "</table>\n",
       "</div>"
      ],
      "text/plain": [
       "   Unnamed: 0  Agregation  banana     cluto  denseDisk      elly  engytime  \\\n",
       "0           0    0.905556     1.0  0.393857   0.860167  0.408451  0.677388   \n",
       "\n",
       "       Jain  Spiral     tetra  unbalance  \n",
       "0  0.962448     1.0  0.989899   0.032365  "
      ]
     },
     "execution_count": 4,
     "metadata": {},
     "output_type": "execute_result"
    }
   ],
   "source": [
    "Sig = pd.read_csv(\"artificialSig.csv\")\n",
    "Sig"
   ]
  },
  {
   "cell_type": "markdown",
   "id": "5b248d5b-e87c-4f71-a34f-df0f723df874",
   "metadata": {},
   "source": [
    "## ward Linkage"
   ]
  },
  {
   "cell_type": "code",
   "execution_count": 5,
   "id": "96a94e57-4cc9-40ca-a97b-4cde4704f788",
   "metadata": {},
   "outputs": [
    {
     "data": {
      "text/html": [
       "<div>\n",
       "<style scoped>\n",
       "    .dataframe tbody tr th:only-of-type {\n",
       "        vertical-align: middle;\n",
       "    }\n",
       "\n",
       "    .dataframe tbody tr th {\n",
       "        vertical-align: top;\n",
       "    }\n",
       "\n",
       "    .dataframe thead th {\n",
       "        text-align: right;\n",
       "    }\n",
       "</style>\n",
       "<table border=\"1\" class=\"dataframe\">\n",
       "  <thead>\n",
       "    <tr style=\"text-align: right;\">\n",
       "      <th></th>\n",
       "      <th>Unnamed: 0</th>\n",
       "      <th>Agregation</th>\n",
       "      <th>banana</th>\n",
       "      <th>cluto</th>\n",
       "      <th>denseDisk</th>\n",
       "      <th>elly</th>\n",
       "      <th>engytime</th>\n",
       "      <th>Jain</th>\n",
       "      <th>Spiral</th>\n",
       "      <th>tetra</th>\n",
       "      <th>unbalance</th>\n",
       "    </tr>\n",
       "  </thead>\n",
       "  <tbody>\n",
       "    <tr>\n",
       "      <th>0</th>\n",
       "      <td>0</td>\n",
       "      <td>0.977951</td>\n",
       "      <td>0.786531</td>\n",
       "      <td>0.710371</td>\n",
       "      <td>0.837435</td>\n",
       "      <td>0.61215</td>\n",
       "      <td>0.923828</td>\n",
       "      <td>0.86059</td>\n",
       "      <td>0.507177</td>\n",
       "      <td>0.9875</td>\n",
       "      <td>0.037642</td>\n",
       "    </tr>\n",
       "  </tbody>\n",
       "</table>\n",
       "</div>"
      ],
      "text/plain": [
       "   Unnamed: 0  Agregation    banana     cluto  denseDisk     elly  engytime  \\\n",
       "0           0    0.977951  0.786531  0.710371   0.837435  0.61215  0.923828   \n",
       "\n",
       "      Jain    Spiral   tetra  unbalance  \n",
       "0  0.86059  0.507177  0.9875   0.037642  "
      ]
     },
     "execution_count": 5,
     "metadata": {},
     "output_type": "execute_result"
    }
   ],
   "source": [
    "Wrd = pd.read_csv(\"artificialWrd.csv\")\n",
    "Wrd"
   ]
  },
  {
   "cell_type": "markdown",
   "id": "378e604a-dd5e-4e1a-bf34-10f78d075f4b",
   "metadata": {},
   "source": [
    "## Kmeans"
   ]
  },
  {
   "cell_type": "code",
   "execution_count": 6,
   "id": "717da2b8-9906-4bcb-943e-52f8abd9c79c",
   "metadata": {},
   "outputs": [
    {
     "data": {
      "text/html": [
       "<div>\n",
       "<style scoped>\n",
       "    .dataframe tbody tr th:only-of-type {\n",
       "        vertical-align: middle;\n",
       "    }\n",
       "\n",
       "    .dataframe tbody tr th {\n",
       "        vertical-align: top;\n",
       "    }\n",
       "\n",
       "    .dataframe thead th {\n",
       "        text-align: right;\n",
       "    }\n",
       "</style>\n",
       "<table border=\"1\" class=\"dataframe\">\n",
       "  <thead>\n",
       "    <tr style=\"text-align: right;\">\n",
       "      <th></th>\n",
       "      <th>Unnamed: 0</th>\n",
       "      <th>Agregation</th>\n",
       "      <th>banana</th>\n",
       "      <th>cluto</th>\n",
       "      <th>denseDisk</th>\n",
       "      <th>elly</th>\n",
       "      <th>engytime</th>\n",
       "      <th>Jain</th>\n",
       "      <th>Spiral</th>\n",
       "      <th>tetra</th>\n",
       "      <th>unbalance</th>\n",
       "    </tr>\n",
       "  </thead>\n",
       "  <tbody>\n",
       "    <tr>\n",
       "      <th>0</th>\n",
       "      <td>0</td>\n",
       "      <td>0.906725</td>\n",
       "      <td>0.828518</td>\n",
       "      <td>0.757242</td>\n",
       "      <td>0.837435</td>\n",
       "      <td>0.629734</td>\n",
       "      <td>0.951416</td>\n",
       "      <td>0.850539</td>\n",
       "      <td>0.507177</td>\n",
       "      <td>1.0</td>\n",
       "      <td>0.037347</td>\n",
       "    </tr>\n",
       "  </tbody>\n",
       "</table>\n",
       "</div>"
      ],
      "text/plain": [
       "   Unnamed: 0  Agregation    banana     cluto  denseDisk      elly  engytime  \\\n",
       "0           0    0.906725  0.828518  0.757242   0.837435  0.629734  0.951416   \n",
       "\n",
       "       Jain    Spiral  tetra  unbalance  \n",
       "0  0.850539  0.507177    1.0   0.037347  "
      ]
     },
     "execution_count": 6,
     "metadata": {},
     "output_type": "execute_result"
    }
   ],
   "source": [
    "Kms = pd.read_csv(\"artificialKms.csv\")\n",
    "Kms"
   ]
  },
  {
   "cell_type": "code",
   "execution_count": null,
   "id": "336de5f6-bd89-487b-9009-e0112363054a",
   "metadata": {},
   "outputs": [],
   "source": []
  }
 ],
 "metadata": {
  "kernelspec": {
   "display_name": "Python 3 (ipykernel)",
   "language": "python",
   "name": "python3"
  },
  "language_info": {
   "codemirror_mode": {
    "name": "ipython",
    "version": 3
   },
   "file_extension": ".py",
   "mimetype": "text/x-python",
   "name": "python",
   "nbconvert_exporter": "python",
   "pygments_lexer": "ipython3",
   "version": "3.9.2"
  }
 },
 "nbformat": 4,
 "nbformat_minor": 5
}
